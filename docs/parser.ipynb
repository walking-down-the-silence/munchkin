{
 "cells": [
  {
   "cell_type": "markdown",
   "metadata": {
    "dotnet_interactive": {
     "language": "markdown"
    }
   },
   "source": [
    "# Parsing the cards information"
   ]
  },
  {
   "cell_type": "code",
   "execution_count": null,
   "metadata": {
    "dotnet_interactive": {
     "language": "csharp"
    }
   },
   "outputs": [],
   "source": [
    "using System.Text.RegularExpressions;\r\n",
    "using System.IO;\r\n",
    "\r\n",
    "string text = File.ReadAllText(@\"munchkin.deluxe.card.description.txt\");\r\n",
    "var sections = text.Split(new string[] { Environment.NewLine + Environment.NewLine }, StringSplitOptions.RemoveEmptyEntries);"
   ]
  },
  {
   "cell_type": "code",
   "execution_count": null,
   "metadata": {
    "dotnet_interactive": {
     "language": "csharp"
    }
   },
   "outputs": [
    {
     "data": {
      "text/plain": "Class Cards\r\n\t3 Thief: Backstabbing - You may discard a card to backstab another player (-2 in combat). You may do this only once per victim per combat, but if two players are fighting a monster together, you may backstab each of them. Theft - You may discard a card to try to steal a small item carried by another player. Roll a die; 4 or more succeeds. Otherwise, you get whacked and lose 1 Level.\r\n\t3 Wizard: Flight Spell - You may discard up to 3 cards while Running Away; each one gives you a +1 bonus to flee. Charm Spell - You may discard your whole hand to charm a single Monster instead of fighting it. Discard the Monster and take its Treasure, but don't gain levels. If there are other monsters in the combat, fight them normally.\r\n\t3 Warrior: Berserking - You may discard up to 3 cards in combat; each one gives you a +1 bonus. You win ties in combat.\r\n\t3 Cleric: Resurrection - When it is time for you to draw a card face-up, you may instead take the top card from the appropriate discard pile. You must then discard one card from your hand. Turning: You may discard up to 3 cards in combat against an Undead creature. Each discard gives you a +3 bonus.\r\n\t2 Super Munchkin: You may have 2 Class cards, and have all the advantages and disadvantages of each."
     },
     "output_type": "unknown"
    }
   ],
   "source": [
    "sections[1]"
   ]
  },
  {
   "cell_type": "code",
   "execution_count": null,
   "metadata": {
    "dotnet_interactive": {
     "language": "csharp"
    }
   },
   "outputs": [],
   "source": [
    "var specialPattern = @\"^\\t((?<count>\\d) (?<title>.*?): ((?<special>.*?) - )?(?<desc>.*?))$\";"
   ]
  },
  {
   "cell_type": "code",
   "execution_count": null,
   "metadata": {
    "dotnet_interactive": {
     "language": "csharp"
    }
   },
   "outputs": [],
   "source": [
    "void PrintLast5(MatchCollection matches)\r\n",
    "{\r\n",
    "    foreach(Match match in matches.TakeLast(5))\r\n",
    "        Console.WriteLine(match.Groups[\"title\"].Value);\r\n",
    "}"
   ]
  },
  {
   "cell_type": "markdown",
   "metadata": {
    "dotnet_interactive": {
     "language": "markdown"
    }
   },
   "source": [
    "## Race Cards"
   ]
  },
  {
   "cell_type": "code",
   "execution_count": null,
   "metadata": {
    "dotnet_interactive": {
     "language": "csharp"
    }
   },
   "outputs": [
    {
     "data": {
      "text/plain": "Dwarf\r\n"
     },
     "output_type": "unknown"
    },
    {
     "data": {
      "text/plain": "Elf\r\n"
     },
     "output_type": "unknown"
    },
    {
     "data": {
      "text/plain": "Halfing\r\n"
     },
     "output_type": "unknown"
    },
    {
     "data": {
      "text/plain": "Half-Breed\r\n"
     },
     "output_type": "unknown"
    }
   ],
   "source": [
    "var raceMatches = Regex.Matches(sections[0], specialPattern, RegexOptions.Multiline);\r\n",
    "PrintLast5(raceMatches)"
   ]
  },
  {
   "cell_type": "markdown",
   "metadata": {
    "dotnet_interactive": {
     "language": "markdown"
    }
   },
   "source": [
    "## Class Cards"
   ]
  },
  {
   "cell_type": "code",
   "execution_count": null,
   "metadata": {
    "dotnet_interactive": {
     "language": "csharp"
    }
   },
   "outputs": [
    {
     "data": {
      "text/plain": "Thief\r\n"
     },
     "output_type": "unknown"
    },
    {
     "data": {
      "text/plain": "Wizard\r\n"
     },
     "output_type": "unknown"
    },
    {
     "data": {
      "text/plain": "Warrior\r\n"
     },
     "output_type": "unknown"
    },
    {
     "data": {
      "text/plain": "Cleric\r\n"
     },
     "output_type": "unknown"
    },
    {
     "data": {
      "text/plain": "Super Munchkin\r\n"
     },
     "output_type": "unknown"
    }
   ],
   "source": [
    "var classMatches = Regex.Matches(sections[1], specialPattern, RegexOptions.Multiline);\r\n",
    "PrintLast5(classMatches);"
   ]
  },
  {
   "cell_type": "markdown",
   "metadata": {
    "dotnet_interactive": {
     "language": "markdown"
    }
   },
   "source": [
    "## Curse Cards"
   ]
  },
  {
   "cell_type": "code",
   "execution_count": null,
   "metadata": {
    "dotnet_interactive": {
     "language": "csharp"
    }
   },
   "outputs": [
    {
     "data": {
      "text/plain": "Chicken On Your Head\r\n"
     },
     "output_type": "unknown"
    },
    {
     "data": {
      "text/plain": "Truly Obnoxious Curse\r\n"
     },
     "output_type": "unknown"
    },
    {
     "data": {
      "text/plain": "Lose Your Race\r\n"
     },
     "output_type": "unknown"
    },
    {
     "data": {
      "text/plain": "Duck of Doom\r\n"
     },
     "output_type": "unknown"
    },
    {
     "data": {
      "text/plain": "Lose Two Cards\r\n"
     },
     "output_type": "unknown"
    }
   ],
   "source": [
    "var curseMatches = Regex.Matches(sections[2], specialPattern, RegexOptions.Multiline);\r\n",
    "PrintLast5(curseMatches);"
   ]
  },
  {
   "cell_type": "markdown",
   "metadata": {
    "dotnet_interactive": {
     "language": "markdown"
    }
   },
   "source": [
    "## Special Cards"
   ]
  },
  {
   "cell_type": "code",
   "execution_count": null,
   "metadata": {
    "dotnet_interactive": {
     "language": "csharp"
    }
   },
   "outputs": [
    {
     "data": {
      "text/plain": "Help Me Out Here!\r\n"
     },
     "output_type": "unknown"
    },
    {
     "data": {
      "text/plain": "Out To Lunch\r\n"
     },
     "output_type": "unknown"
    },
    {
     "data": {
      "text/plain": "Mate\r\n"
     },
     "output_type": "unknown"
    },
    {
     "data": {
      "text/plain": "Wandering Monster\r\n"
     },
     "output_type": "unknown"
    },
    {
     "data": {
      "text/plain": "Cheat!\r\n"
     },
     "output_type": "unknown"
    }
   ],
   "source": [
    "var specialMatches = Regex.Matches(sections[3], specialPattern, RegexOptions.Multiline);\r\n",
    "PrintLast5(specialMatches);"
   ]
  },
  {
   "cell_type": "markdown",
   "metadata": {
    "dotnet_interactive": {
     "language": "markdown"
    }
   },
   "source": [
    "## Monster Cards"
   ]
  },
  {
   "cell_type": "code",
   "execution_count": null,
   "metadata": {
    "dotnet_interactive": {
     "language": "csharp"
    }
   },
   "outputs": [
    {
     "data": {
      "text/plain": "King Tut (Undead)\r\n"
     },
     "output_type": "unknown"
    },
    {
     "data": {
      "text/plain": "Wight Brothers (Undead)\r\n"
     },
     "output_type": "unknown"
    },
    {
     "data": {
      "text/plain": "Squidzilla\r\n"
     },
     "output_type": "unknown"
    },
    {
     "data": {
      "text/plain": "Bullrog\r\n"
     },
     "output_type": "unknown"
    },
    {
     "data": {
      "text/plain": "Plutonium Dragon\r\n"
     },
     "output_type": "unknown"
    }
   ],
   "source": [
    "string monsterPattern = @\"^\\t((?<title>.*?) - L(?<power>\\d+) T(?<treasures>\\d+)( (?<levels>\\d+)L)? - (?<desc>.*?))$\";\r\n",
    "var monsterMatches = Regex.Matches(sections[4], monsterPattern, RegexOptions.Multiline);\r\n",
    "PrintLast5(monsterMatches);"
   ]
  },
  {
   "cell_type": "markdown",
   "metadata": {
    "dotnet_interactive": {
     "language": "markdown"
    }
   },
   "source": [
    "## Putting it all together"
   ]
  },
  {
   "cell_type": "markdown",
   "metadata": {
    "dotnet_interactive": {
     "language": "markdown"
    }
   },
   "source": [
    "Defining the common types for parsed data:"
   ]
  },
  {
   "cell_type": "code",
   "execution_count": null,
   "metadata": {
    "dotnet_interactive": {
     "language": "csharp"
    }
   },
   "outputs": [],
   "source": [
    "public record CardInfo(\r\n",
    "    string Type,\r\n",
    "    string Title,\r\n",
    "    string Description,\r\n",
    "    int MonsterLevel,\r\n",
    "    int RewardTreasures,\r\n",
    "    int RewardLevels,\r\n",
    "    string SpecialSubtitle\r\n",
    ");"
   ]
  },
  {
   "cell_type": "code",
   "execution_count": null,
   "metadata": {
    "dotnet_interactive": {
     "language": "csharp"
    }
   },
   "outputs": [],
   "source": [
    "int ParseOrDefault(string value)\r\n",
    "{\r\n",
    "    return int.TryParse(value, out int number) ? number : 0;\r\n",
    "}"
   ]
  },
  {
   "cell_type": "markdown",
   "metadata": {
    "dotnet_interactive": {
     "language": "markdown"
    }
   },
   "source": [
    "Converting the data into actual types:"
   ]
  },
  {
   "cell_type": "code",
   "execution_count": null,
   "metadata": {
    "dotnet_interactive": {
     "language": "csharp"
    }
   },
   "outputs": [],
   "source": [
    "var raceCardsInfo = raceMatches\r\n",
    "    .Select(x => new CardInfo(\r\n",
    "        \"Race\",\r\n",
    "        x.Groups[\"title\"].Value,\r\n",
    "        x.Groups[\"desc\"].Value,\r\n",
    "        ParseOrDefault(x.Groups[\"power\"].Value),\r\n",
    "        ParseOrDefault(x.Groups[\"treasures\"].Value),\r\n",
    "        ParseOrDefault(x.Groups[\"levels\"].Value),\r\n",
    "        x.Groups[\"special\"].Value));"
   ]
  },
  {
   "cell_type": "code",
   "execution_count": null,
   "metadata": {
    "dotnet_interactive": {
     "language": "csharp"
    }
   },
   "outputs": [],
   "source": [
    "var classCardsInfo = classMatches\r\n",
    "    .Select(x => new CardInfo(\r\n",
    "        \"Class\",\r\n",
    "        x.Groups[\"title\"].Value,\r\n",
    "        x.Groups[\"desc\"].Value,\r\n",
    "        ParseOrDefault(x.Groups[\"power\"].Value),\r\n",
    "        ParseOrDefault(x.Groups[\"treasures\"].Value),\r\n",
    "        ParseOrDefault(x.Groups[\"levels\"].Value),\r\n",
    "        x.Groups[\"special\"].Value));"
   ]
  },
  {
   "cell_type": "code",
   "execution_count": null,
   "metadata": {
    "dotnet_interactive": {
     "language": "csharp"
    }
   },
   "outputs": [],
   "source": [
    "var curseCardsInfo = curseMatches\r\n",
    "    .Select(x => new CardInfo(\r\n",
    "        \"Curse\",\r\n",
    "        x.Groups[\"title\"].Value,\r\n",
    "        x.Groups[\"desc\"].Value,\r\n",
    "        ParseOrDefault(x.Groups[\"power\"].Value),\r\n",
    "        ParseOrDefault(x.Groups[\"treasures\"].Value),\r\n",
    "        ParseOrDefault(x.Groups[\"levels\"].Value),\r\n",
    "        x.Groups[\"special\"].Value));"
   ]
  },
  {
   "cell_type": "code",
   "execution_count": null,
   "metadata": {
    "dotnet_interactive": {
     "language": "csharp"
    }
   },
   "outputs": [],
   "source": [
    "var specialCardsInfo = specialMatches\r\n",
    "    .Select(x => new CardInfo(\r\n",
    "        \"Special\",\r\n",
    "        x.Groups[\"title\"].Value,\r\n",
    "        x.Groups[\"desc\"].Value,\r\n",
    "        ParseOrDefault(x.Groups[\"power\"].Value),\r\n",
    "        ParseOrDefault(x.Groups[\"treasures\"].Value),\r\n",
    "        ParseOrDefault(x.Groups[\"levels\"].Value),\r\n",
    "        x.Groups[\"special\"].Value));"
   ]
  },
  {
   "cell_type": "code",
   "execution_count": null,
   "metadata": {
    "dotnet_interactive": {
     "language": "csharp"
    }
   },
   "outputs": [],
   "source": [
    "var monsterCardsInfo = monsterMatches\r\n",
    "    .Select(x => new CardInfo(\r\n",
    "        \"Curse\",\r\n",
    "        x.Groups[\"title\"].Value,\r\n",
    "        x.Groups[\"desc\"].Value,\r\n",
    "        ParseOrDefault(x.Groups[\"power\"].Value),\r\n",
    "        ParseOrDefault(x.Groups[\"treasures\"].Value),\r\n",
    "        ParseOrDefault(x.Groups[\"levels\"].Value),\r\n",
    "        x.Groups[\"special\"].Value));"
   ]
  },
  {
   "cell_type": "code",
   "execution_count": null,
   "metadata": {
    "dotnet_interactive": {
     "language": "csharp"
    }
   },
   "outputs": [
    {
     "data": {
      "text/plain": "King Tut (Undead)\r\n"
     },
     "output_type": "unknown"
    },
    {
     "data": {
      "text/plain": "Wight Brothers (Undead)\r\n"
     },
     "output_type": "unknown"
    },
    {
     "data": {
      "text/plain": "Squidzilla\r\n"
     },
     "output_type": "unknown"
    },
    {
     "data": {
      "text/plain": "Bullrog\r\n"
     },
     "output_type": "unknown"
    },
    {
     "data": {
      "text/plain": "Plutonium Dragon\r\n"
     },
     "output_type": "unknown"
    }
   ],
   "source": [
    "var cardsInfo = raceCardsInfo\r\n",
    "    .Concat(classCardsInfo)\r\n",
    "    .Concat(curseCardsInfo)\r\n",
    "    .Concat(specialCardsInfo)\r\n",
    "    .Concat(monsterCardsInfo);\r\n",
    "\r\n",
    "foreach(var info in cardsInfo.TakeLast(5))\r\n",
    "    Console.WriteLine(info.Title);"
   ]
  },
  {
   "cell_type": "code",
   "execution_count": null,
   "metadata": {
    "dotnet_interactive": {
     "language": "csharp"
    }
   },
   "outputs": [],
   "source": []
  }
 ],
 "metadata": {
  "kernelspec": {
   "display_name": ".NET (C#)",
   "language": "C#",
   "name": ".net-csharp"
  },
  "language_info": {
   "name": "C#",
   "version": ""
  },
  "orig_nbformat": 2
 },
 "nbformat": 4,
 "nbformat_minor": 2
}